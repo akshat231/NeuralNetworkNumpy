{
 "metadata": {
  "language_info": {
   "codemirror_mode": {
    "name": "ipython",
    "version": 3
   },
   "file_extension": ".py",
   "mimetype": "text/x-python",
   "name": "python",
   "nbconvert_exporter": "python",
   "pygments_lexer": "ipython3",
   "version": "3.9.5"
  },
  "orig_nbformat": 4,
  "kernelspec": {
   "name": "python3",
   "display_name": "Python 3.9.5 64-bit"
  },
  "interpreter": {
   "hash": "33dc6d49505b4536b6a128d9d7c879e1fa44477ad44947bbbe73093067fe6393"
  }
 },
 "nbformat": 4,
 "nbformat_minor": 2,
 "cells": [
  {
   "cell_type": "code",
   "execution_count": 25,
   "source": [
    "import numpy as np  \r\n",
    "import pandas as pd\r\n",
    "#importing modules"
   ],
   "outputs": [],
   "metadata": {}
  },
  {
   "cell_type": "code",
   "execution_count": 26,
   "source": [
    "df=pd.read_csv(\"housepricedata.csv\")   #reading data"
   ],
   "outputs": [],
   "metadata": {}
  },
  {
   "cell_type": "code",
   "execution_count": 27,
   "source": [
    "df.head()   #data"
   ],
   "outputs": [
    {
     "output_type": "execute_result",
     "data": {
      "text/plain": [
       "   LotArea  OverallQual  OverallCond  TotalBsmtSF  FullBath  HalfBath  \\\n",
       "0     8450            7            5          856         2         1   \n",
       "1     9600            6            8         1262         2         0   \n",
       "2    11250            7            5          920         2         1   \n",
       "3     9550            7            5          756         1         0   \n",
       "4    14260            8            5         1145         2         1   \n",
       "\n",
       "   BedroomAbvGr  TotRmsAbvGrd  Fireplaces  GarageArea  AboveMedianPrice  \n",
       "0             3             8           0         548                 1  \n",
       "1             3             6           1         460                 1  \n",
       "2             3             6           1         608                 1  \n",
       "3             3             7           1         642                 0  \n",
       "4             4             9           1         836                 1  "
      ],
      "text/html": [
       "<div>\n",
       "<style scoped>\n",
       "    .dataframe tbody tr th:only-of-type {\n",
       "        vertical-align: middle;\n",
       "    }\n",
       "\n",
       "    .dataframe tbody tr th {\n",
       "        vertical-align: top;\n",
       "    }\n",
       "\n",
       "    .dataframe thead th {\n",
       "        text-align: right;\n",
       "    }\n",
       "</style>\n",
       "<table border=\"1\" class=\"dataframe\">\n",
       "  <thead>\n",
       "    <tr style=\"text-align: right;\">\n",
       "      <th></th>\n",
       "      <th>LotArea</th>\n",
       "      <th>OverallQual</th>\n",
       "      <th>OverallCond</th>\n",
       "      <th>TotalBsmtSF</th>\n",
       "      <th>FullBath</th>\n",
       "      <th>HalfBath</th>\n",
       "      <th>BedroomAbvGr</th>\n",
       "      <th>TotRmsAbvGrd</th>\n",
       "      <th>Fireplaces</th>\n",
       "      <th>GarageArea</th>\n",
       "      <th>AboveMedianPrice</th>\n",
       "    </tr>\n",
       "  </thead>\n",
       "  <tbody>\n",
       "    <tr>\n",
       "      <th>0</th>\n",
       "      <td>8450</td>\n",
       "      <td>7</td>\n",
       "      <td>5</td>\n",
       "      <td>856</td>\n",
       "      <td>2</td>\n",
       "      <td>1</td>\n",
       "      <td>3</td>\n",
       "      <td>8</td>\n",
       "      <td>0</td>\n",
       "      <td>548</td>\n",
       "      <td>1</td>\n",
       "    </tr>\n",
       "    <tr>\n",
       "      <th>1</th>\n",
       "      <td>9600</td>\n",
       "      <td>6</td>\n",
       "      <td>8</td>\n",
       "      <td>1262</td>\n",
       "      <td>2</td>\n",
       "      <td>0</td>\n",
       "      <td>3</td>\n",
       "      <td>6</td>\n",
       "      <td>1</td>\n",
       "      <td>460</td>\n",
       "      <td>1</td>\n",
       "    </tr>\n",
       "    <tr>\n",
       "      <th>2</th>\n",
       "      <td>11250</td>\n",
       "      <td>7</td>\n",
       "      <td>5</td>\n",
       "      <td>920</td>\n",
       "      <td>2</td>\n",
       "      <td>1</td>\n",
       "      <td>3</td>\n",
       "      <td>6</td>\n",
       "      <td>1</td>\n",
       "      <td>608</td>\n",
       "      <td>1</td>\n",
       "    </tr>\n",
       "    <tr>\n",
       "      <th>3</th>\n",
       "      <td>9550</td>\n",
       "      <td>7</td>\n",
       "      <td>5</td>\n",
       "      <td>756</td>\n",
       "      <td>1</td>\n",
       "      <td>0</td>\n",
       "      <td>3</td>\n",
       "      <td>7</td>\n",
       "      <td>1</td>\n",
       "      <td>642</td>\n",
       "      <td>0</td>\n",
       "    </tr>\n",
       "    <tr>\n",
       "      <th>4</th>\n",
       "      <td>14260</td>\n",
       "      <td>8</td>\n",
       "      <td>5</td>\n",
       "      <td>1145</td>\n",
       "      <td>2</td>\n",
       "      <td>1</td>\n",
       "      <td>4</td>\n",
       "      <td>9</td>\n",
       "      <td>1</td>\n",
       "      <td>836</td>\n",
       "      <td>1</td>\n",
       "    </tr>\n",
       "  </tbody>\n",
       "</table>\n",
       "</div>"
      ]
     },
     "metadata": {},
     "execution_count": 27
    }
   ],
   "metadata": {}
  },
  {
   "cell_type": "code",
   "execution_count": 28,
   "source": [
    "X=df.drop(['AboveMedianPrice'],axis=1).values    #defining features"
   ],
   "outputs": [],
   "metadata": {}
  },
  {
   "cell_type": "code",
   "execution_count": 29,
   "source": [
    "X  #data"
   ],
   "outputs": [
    {
     "output_type": "execute_result",
     "data": {
      "text/plain": [
       "array([[ 8450,     7,     5, ...,     8,     0,   548],\n",
       "       [ 9600,     6,     8, ...,     6,     1,   460],\n",
       "       [11250,     7,     5, ...,     6,     1,   608],\n",
       "       ...,\n",
       "       [ 9042,     7,     9, ...,     9,     2,   252],\n",
       "       [ 9717,     5,     6, ...,     5,     0,   240],\n",
       "       [ 9937,     5,     6, ...,     6,     0,   276]], dtype=int64)"
      ]
     },
     "metadata": {},
     "execution_count": 29
    }
   ],
   "metadata": {}
  },
  {
   "cell_type": "code",
   "execution_count": 30,
   "source": [
    "X.shape  #shape of feature set"
   ],
   "outputs": [
    {
     "output_type": "execute_result",
     "data": {
      "text/plain": [
       "(1460, 10)"
      ]
     },
     "metadata": {},
     "execution_count": 30
    }
   ],
   "metadata": {}
  },
  {
   "cell_type": "code",
   "execution_count": 31,
   "source": [
    "Y=df[['AboveMedianPrice']].values  #defining output set"
   ],
   "outputs": [],
   "metadata": {}
  },
  {
   "cell_type": "code",
   "execution_count": 32,
   "source": [
    "Y  #data"
   ],
   "outputs": [
    {
     "output_type": "execute_result",
     "data": {
      "text/plain": [
       "array([[1],\n",
       "       [1],\n",
       "       [1],\n",
       "       ...,\n",
       "       [1],\n",
       "       [0],\n",
       "       [0]], dtype=int64)"
      ]
     },
     "metadata": {},
     "execution_count": 32
    }
   ],
   "metadata": {}
  },
  {
   "cell_type": "code",
   "execution_count": 33,
   "source": [
    "from sklearn.preprocessing import MinMaxScaler #importing modules"
   ],
   "outputs": [],
   "metadata": {}
  },
  {
   "cell_type": "code",
   "execution_count": 34,
   "source": [
    "scaler=MinMaxScaler()   #scaling the data"
   ],
   "outputs": [],
   "metadata": {}
  },
  {
   "cell_type": "code",
   "execution_count": 35,
   "source": [
    "from sklearn.model_selection import train_test_split   #importing"
   ],
   "outputs": [],
   "metadata": {}
  },
  {
   "cell_type": "code",
   "execution_count": 36,
   "source": [
    "X_train, X_test, y_train, y_test = train_test_split(X, Y, test_size=0.3, random_state=42)   #train_test_split"
   ],
   "outputs": [],
   "metadata": {}
  },
  {
   "cell_type": "code",
   "execution_count": 37,
   "source": [
    "X_train=scaler.fit_transform(X_train)\r\n",
    "X_test=scaler.fit_transform(X_test)"
   ],
   "outputs": [],
   "metadata": {}
  },
  {
   "cell_type": "code",
   "execution_count": 38,
   "source": [
    "X_train.shape  #shape"
   ],
   "outputs": [
    {
     "output_type": "execute_result",
     "data": {
      "text/plain": [
       "(1022, 10)"
      ]
     },
     "metadata": {},
     "execution_count": 38
    }
   ],
   "metadata": {}
  },
  {
   "cell_type": "code",
   "execution_count": 39,
   "source": [
    "X_test.shape   #shape"
   ],
   "outputs": [
    {
     "output_type": "execute_result",
     "data": {
      "text/plain": [
       "(438, 10)"
      ]
     },
     "metadata": {},
     "execution_count": 39
    }
   ],
   "metadata": {}
  },
  {
   "cell_type": "code",
   "execution_count": 40,
   "source": [
    "scaler.fit(X_train)  #shape"
   ],
   "outputs": [
    {
     "output_type": "execute_result",
     "data": {
      "text/plain": [
       "MinMaxScaler()"
      ]
     },
     "metadata": {},
     "execution_count": 40
    }
   ],
   "metadata": {}
  },
  {
   "cell_type": "code",
   "execution_count": 41,
   "source": [
    "train=scaler.transform(X_train)  #shape"
   ],
   "outputs": [],
   "metadata": {}
  },
  {
   "cell_type": "code",
   "execution_count": 42,
   "source": [
    "test=scaler.transform(X_test)   #shape"
   ],
   "outputs": [],
   "metadata": {}
  },
  {
   "cell_type": "code",
   "execution_count": 43,
   "source": [
    "from tensorflow.keras.models import Sequential\r\n",
    "from tensorflow.keras.layers import Dense\r\n",
    "from tensorflow.keras.optimizers import Adam\r\n",
    "from tensorflow.keras.callbacks import EarlyStopping\r\n",
    "#importing more modules"
   ],
   "outputs": [],
   "metadata": {}
  },
  {
   "cell_type": "code",
   "execution_count": 44,
   "source": [
    "early_stop = EarlyStopping(monitor='val_loss', mode='min', verbose=1, patience=25)   #defining early stop"
   ],
   "outputs": [],
   "metadata": {}
  },
  {
   "cell_type": "code",
   "execution_count": 45,
   "source": [
    "model=Sequential()\r\n",
    "model.add(Dense(32,activation='sigmoid'))\r\n",
    "model.add(Dense(32,activation='sigmoid'))\r\n",
    "model.add(Dense(32,activation='sigmoid'))\r\n",
    "model.add(Dense(1,activation='sigmoid'))\r\n",
    "model.compile(optimizer='adam',loss='mse')\r\n",
    "#defining model"
   ],
   "outputs": [],
   "metadata": {}
  },
  {
   "cell_type": "code",
   "execution_count": 46,
   "source": [
    "model.fit(x=X_train, \r\n",
    "          y=y_train, \r\n",
    "          epochs=600,\r\n",
    "          validation_data=(X_test, y_test), verbose=1,\r\n",
    "          callbacks=[early_stop]\r\n",
    "          )\r\n",
    "          #fitting the model"
   ],
   "outputs": [
    {
     "output_type": "stream",
     "name": "stdout",
     "text": [
      "Epoch 1/600\n",
      "32/32 [==============================] - 1s 11ms/step - loss: 0.2509 - val_loss: 0.2487\n",
      "Epoch 2/600\n",
      "32/32 [==============================] - 0s 3ms/step - loss: 0.2500 - val_loss: 0.2504\n",
      "Epoch 3/600\n",
      "32/32 [==============================] - 0s 3ms/step - loss: 0.2489 - val_loss: 0.2477\n",
      "Epoch 4/600\n",
      "32/32 [==============================] - 0s 2ms/step - loss: 0.2484 - val_loss: 0.2501\n",
      "Epoch 5/600\n",
      "32/32 [==============================] - 0s 4ms/step - loss: 0.2476 - val_loss: 0.2461\n",
      "Epoch 6/600\n",
      "32/32 [==============================] - 0s 3ms/step - loss: 0.2460 - val_loss: 0.2435\n",
      "Epoch 7/600\n",
      "32/32 [==============================] - 0s 3ms/step - loss: 0.2435 - val_loss: 0.2420\n",
      "Epoch 8/600\n",
      "32/32 [==============================] - 0s 2ms/step - loss: 0.2402 - val_loss: 0.2374\n",
      "Epoch 9/600\n",
      "32/32 [==============================] - 0s 3ms/step - loss: 0.2347 - val_loss: 0.2293\n",
      "Epoch 10/600\n",
      "32/32 [==============================] - 0s 3ms/step - loss: 0.2263 - val_loss: 0.2198\n",
      "Epoch 11/600\n",
      "32/32 [==============================] - 0s 3ms/step - loss: 0.2139 - val_loss: 0.1972\n",
      "Epoch 12/600\n",
      "32/32 [==============================] - 0s 3ms/step - loss: 0.1964 - val_loss: 0.1784\n",
      "Epoch 13/600\n",
      "32/32 [==============================] - 0s 3ms/step - loss: 0.1753 - val_loss: 0.1540\n",
      "Epoch 14/600\n",
      "32/32 [==============================] - 0s 4ms/step - loss: 0.1562 - val_loss: 0.1348\n",
      "Epoch 15/600\n",
      "32/32 [==============================] - 0s 4ms/step - loss: 0.1397 - val_loss: 0.1302\n",
      "Epoch 16/600\n",
      "32/32 [==============================] - 0s 7ms/step - loss: 0.1275 - val_loss: 0.1154\n",
      "Epoch 17/600\n",
      "32/32 [==============================] - 0s 4ms/step - loss: 0.1194 - val_loss: 0.1041\n",
      "Epoch 18/600\n",
      "32/32 [==============================] - 0s 4ms/step - loss: 0.1133 - val_loss: 0.1052\n",
      "Epoch 19/600\n",
      "32/32 [==============================] - 0s 4ms/step - loss: 0.1088 - val_loss: 0.1018\n",
      "Epoch 20/600\n",
      "32/32 [==============================] - 0s 4ms/step - loss: 0.1053 - val_loss: 0.0892\n",
      "Epoch 21/600\n",
      "32/32 [==============================] - 0s 5ms/step - loss: 0.1025 - val_loss: 0.0942\n",
      "Epoch 22/600\n",
      "32/32 [==============================] - 0s 4ms/step - loss: 0.1008 - val_loss: 0.0851\n",
      "Epoch 23/600\n",
      "32/32 [==============================] - 0s 4ms/step - loss: 0.0999 - val_loss: 0.0867\n",
      "Epoch 24/600\n",
      "32/32 [==============================] - 0s 3ms/step - loss: 0.0974 - val_loss: 0.0906\n",
      "Epoch 25/600\n",
      "32/32 [==============================] - 0s 4ms/step - loss: 0.0967 - val_loss: 0.0849\n",
      "Epoch 26/600\n",
      "32/32 [==============================] - 0s 4ms/step - loss: 0.0960 - val_loss: 0.0892\n",
      "Epoch 27/600\n",
      "32/32 [==============================] - 0s 3ms/step - loss: 0.0943 - val_loss: 0.0843\n",
      "Epoch 28/600\n",
      "32/32 [==============================] - 0s 4ms/step - loss: 0.0928 - val_loss: 0.0829\n",
      "Epoch 29/600\n",
      "32/32 [==============================] - 0s 3ms/step - loss: 0.0920 - val_loss: 0.0786\n",
      "Epoch 30/600\n",
      "32/32 [==============================] - 0s 4ms/step - loss: 0.0924 - val_loss: 0.0880\n",
      "Epoch 31/600\n",
      "32/32 [==============================] - 0s 4ms/step - loss: 0.0903 - val_loss: 0.0790\n",
      "Epoch 32/600\n",
      "32/32 [==============================] - 0s 3ms/step - loss: 0.0941 - val_loss: 0.0780\n",
      "Epoch 33/600\n",
      "32/32 [==============================] - 0s 3ms/step - loss: 0.0896 - val_loss: 0.0943\n",
      "Epoch 34/600\n",
      "32/32 [==============================] - 0s 3ms/step - loss: 0.0899 - val_loss: 0.0837\n",
      "Epoch 35/600\n",
      "32/32 [==============================] - 0s 4ms/step - loss: 0.0889 - val_loss: 0.0786\n",
      "Epoch 36/600\n",
      "32/32 [==============================] - 0s 4ms/step - loss: 0.0889 - val_loss: 0.0814\n",
      "Epoch 37/600\n",
      "32/32 [==============================] - 0s 3ms/step - loss: 0.0888 - val_loss: 0.0785\n",
      "Epoch 38/600\n",
      "32/32 [==============================] - 0s 3ms/step - loss: 0.0880 - val_loss: 0.0790\n",
      "Epoch 39/600\n",
      "32/32 [==============================] - 0s 3ms/step - loss: 0.0876 - val_loss: 0.0896\n",
      "Epoch 40/600\n",
      "32/32 [==============================] - 0s 5ms/step - loss: 0.0876 - val_loss: 0.0776\n",
      "Epoch 41/600\n",
      "32/32 [==============================] - 0s 3ms/step - loss: 0.0889 - val_loss: 0.0837\n",
      "Epoch 42/600\n",
      "32/32 [==============================] - 0s 2ms/step - loss: 0.0873 - val_loss: 0.0786\n",
      "Epoch 43/600\n",
      "32/32 [==============================] - 0s 2ms/step - loss: 0.0866 - val_loss: 0.0840\n",
      "Epoch 44/600\n",
      "32/32 [==============================] - 0s 3ms/step - loss: 0.0868 - val_loss: 0.0731\n",
      "Epoch 45/600\n",
      "32/32 [==============================] - 0s 4ms/step - loss: 0.0871 - val_loss: 0.0809\n",
      "Epoch 46/600\n",
      "32/32 [==============================] - 0s 4ms/step - loss: 0.0860 - val_loss: 0.0914\n",
      "Epoch 47/600\n",
      "32/32 [==============================] - 0s 3ms/step - loss: 0.0856 - val_loss: 0.0766\n",
      "Epoch 48/600\n",
      "32/32 [==============================] - 0s 3ms/step - loss: 0.0862 - val_loss: 0.0783\n",
      "Epoch 49/600\n",
      "32/32 [==============================] - 0s 4ms/step - loss: 0.0854 - val_loss: 0.0856\n",
      "Epoch 50/600\n",
      "32/32 [==============================] - 0s 4ms/step - loss: 0.0857 - val_loss: 0.0896\n",
      "Epoch 51/600\n",
      "32/32 [==============================] - 0s 4ms/step - loss: 0.0850 - val_loss: 0.0746\n",
      "Epoch 52/600\n",
      "32/32 [==============================] - 0s 4ms/step - loss: 0.0855 - val_loss: 0.0706\n",
      "Epoch 53/600\n",
      "32/32 [==============================] - 0s 3ms/step - loss: 0.0873 - val_loss: 0.0860\n",
      "Epoch 54/600\n",
      "32/32 [==============================] - 0s 4ms/step - loss: 0.0845 - val_loss: 0.0859\n",
      "Epoch 55/600\n",
      "32/32 [==============================] - 0s 5ms/step - loss: 0.0849 - val_loss: 0.0805\n",
      "Epoch 56/600\n",
      "32/32 [==============================] - 0s 4ms/step - loss: 0.0846 - val_loss: 0.0773\n",
      "Epoch 57/600\n",
      "32/32 [==============================] - 0s 4ms/step - loss: 0.0842 - val_loss: 0.0855\n",
      "Epoch 58/600\n",
      "32/32 [==============================] - 0s 4ms/step - loss: 0.0847 - val_loss: 0.0941\n",
      "Epoch 59/600\n",
      "32/32 [==============================] - 0s 5ms/step - loss: 0.0855 - val_loss: 0.0801\n",
      "Epoch 60/600\n",
      "32/32 [==============================] - 0s 4ms/step - loss: 0.0842 - val_loss: 0.0817\n",
      "Epoch 61/600\n",
      "32/32 [==============================] - 0s 3ms/step - loss: 0.0839 - val_loss: 0.0744\n",
      "Epoch 62/600\n",
      "32/32 [==============================] - 0s 4ms/step - loss: 0.0837 - val_loss: 0.0874\n",
      "Epoch 63/600\n",
      "32/32 [==============================] - 0s 4ms/step - loss: 0.0839 - val_loss: 0.0751\n",
      "Epoch 64/600\n",
      "32/32 [==============================] - 0s 4ms/step - loss: 0.0842 - val_loss: 0.0812\n",
      "Epoch 65/600\n",
      "32/32 [==============================] - 0s 3ms/step - loss: 0.0835 - val_loss: 0.0858\n",
      "Epoch 66/600\n",
      "32/32 [==============================] - 0s 3ms/step - loss: 0.0831 - val_loss: 0.0737\n",
      "Epoch 67/600\n",
      "32/32 [==============================] - 0s 4ms/step - loss: 0.0829 - val_loss: 0.0884\n",
      "Epoch 68/600\n",
      "32/32 [==============================] - 0s 4ms/step - loss: 0.0833 - val_loss: 0.0802\n",
      "Epoch 69/600\n",
      "32/32 [==============================] - 0s 3ms/step - loss: 0.0826 - val_loss: 0.0822\n",
      "Epoch 70/600\n",
      "32/32 [==============================] - 0s 3ms/step - loss: 0.0828 - val_loss: 0.0809\n",
      "Epoch 71/600\n",
      "32/32 [==============================] - 0s 2ms/step - loss: 0.0831 - val_loss: 0.0893\n",
      "Epoch 72/600\n",
      "32/32 [==============================] - 0s 3ms/step - loss: 0.0834 - val_loss: 0.0773\n",
      "Epoch 73/600\n",
      "32/32 [==============================] - 0s 3ms/step - loss: 0.0819 - val_loss: 0.0932\n",
      "Epoch 74/600\n",
      "32/32 [==============================] - 0s 4ms/step - loss: 0.0831 - val_loss: 0.0764\n",
      "Epoch 75/600\n",
      "32/32 [==============================] - 0s 3ms/step - loss: 0.0819 - val_loss: 0.0834\n",
      "Epoch 76/600\n",
      "32/32 [==============================] - 0s 3ms/step - loss: 0.0821 - val_loss: 0.0820\n",
      "Epoch 77/600\n",
      "32/32 [==============================] - 0s 3ms/step - loss: 0.0817 - val_loss: 0.0746\n",
      "Epoch 00077: early stopping\n"
     ]
    },
    {
     "output_type": "execute_result",
     "data": {
      "text/plain": [
       "<tensorflow.python.keras.callbacks.History at 0x1cadf9cc400>"
      ]
     },
     "metadata": {},
     "execution_count": 46
    }
   ],
   "metadata": {}
  },
  {
   "cell_type": "code",
   "execution_count": 47,
   "source": [
    "loss_df=pd.DataFrame(model.history.history)\r\n",
    "#defining loss"
   ],
   "outputs": [],
   "metadata": {}
  },
  {
   "cell_type": "code",
   "execution_count": 48,
   "source": [
    "loss_df.plot()\r\n",
    "#plot of loss function"
   ],
   "outputs": [
    {
     "output_type": "execute_result",
     "data": {
      "text/plain": [
       "<AxesSubplot:>"
      ]
     },
     "metadata": {},
     "execution_count": 48
    },
    {
     "output_type": "display_data",
     "data": {
      "text/plain": [
       "<Figure size 432x288 with 1 Axes>"
      ],
      "image/png": "[encoded data removed]"
     },
     "metadata": {
      "needs_background": "light"
     }
    }
   ],
   "metadata": {}
  },
  {
   "cell_type": "code",
   "execution_count": 53,
   "source": [
    "prediction=model.predict(X_test)"
   ],
   "outputs": [],
   "metadata": {}
  },
  {
   "cell_type": "code",
   "execution_count": 55,
   "source": [
    "for i in range(prediction.shape[0]):\r\n",
    "    if prediction[i]<0.5:\r\n",
    "        prediction[i]=0\r\n",
    "    elif prediction[i]>=0.5:\r\n",
    "        prediction[i]=1\r\n",
    "# making value 0 or 1"
   ],
   "outputs": [],
   "metadata": {}
  },
  {
   "cell_type": "code",
   "execution_count": 56,
   "source": [
    "sd=0\r\n",
    "for i in range (prediction.shape[0]):\r\n",
    "    if prediction[i]==y_test[i]:\r\n",
    "        sd=sd+1\r\n",
    "print(sd/len(prediction))\r\n",
    "#accuracy of test set in 89%"
   ],
   "outputs": [
    {
     "output_type": "stream",
     "name": "stdout",
     "text": [
      "0.8904109589041096\n"
     ]
    }
   ],
   "metadata": {}
  },
  {
   "cell_type": "code",
   "execution_count": null,
   "source": [],
   "outputs": [],
   "metadata": {}
  }
 ]
}