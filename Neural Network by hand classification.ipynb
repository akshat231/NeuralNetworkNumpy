{
    "cells": [
        {
            "cell_type": "code",
            "execution_count": 44,
            "source": [
                "import numpy as np \r\n",
                "import pandas as pd  \r\n",
                "import matplotlib.pyplot as plt  \r\n",
                "import seaborn as sns\r\n",
                "#importing modules"
            ],
            "outputs": [],
            "metadata": {}
        },
        {
            "cell_type": "code",
            "execution_count": 45,
            "source": [
                "df=pd.read_csv('housepricedata.csv')"
            ],
            "outputs": [],
            "metadata": {}
        },
        {
            "cell_type": "code",
            "execution_count": 46,
            "source": [
                "df.head()"
            ],
            "outputs": [
                {
                    "output_type": "execute_result",
                    "data": {
                        "text/plain": [
                            "   LotArea  OverallQual  OverallCond  TotalBsmtSF  FullBath  HalfBath  \\\n",
                            "0     8450            7            5          856         2         1   \n",
                            "1     9600            6            8         1262         2         0   \n",
                            "2    11250            7            5          920         2         1   \n",
                            "3     9550            7            5          756         1         0   \n",
                            "4    14260            8            5         1145         2         1   \n",
                            "\n",
                            "   BedroomAbvGr  TotRmsAbvGrd  Fireplaces  GarageArea  AboveMedianPrice  \n",
                            "0             3             8           0         548                 1  \n",
                            "1             3             6           1         460                 1  \n",
                            "2             3             6           1         608                 1  \n",
                            "3             3             7           1         642                 0  \n",
                            "4             4             9           1         836                 1  "
                        ],
                        "text/html": [
                            "<div>\n",
                            "<style scoped>\n",
                            "    .dataframe tbody tr th:only-of-type {\n",
                            "        vertical-align: middle;\n",
                            "    }\n",
                            "\n",
                            "    .dataframe tbody tr th {\n",
                            "        vertical-align: top;\n",
                            "    }\n",
                            "\n",
                            "    .dataframe thead th {\n",
                            "        text-align: right;\n",
                            "    }\n",
                            "</style>\n",
                            "<table border=\"1\" class=\"dataframe\">\n",
                            "  <thead>\n",
                            "    <tr style=\"text-align: right;\">\n",
                            "      <th></th>\n",
                            "      <th>LotArea</th>\n",
                            "      <th>OverallQual</th>\n",
                            "      <th>OverallCond</th>\n",
                            "      <th>TotalBsmtSF</th>\n",
                            "      <th>FullBath</th>\n",
                            "      <th>HalfBath</th>\n",
                            "      <th>BedroomAbvGr</th>\n",
                            "      <th>TotRmsAbvGrd</th>\n",
                            "      <th>Fireplaces</th>\n",
                            "      <th>GarageArea</th>\n",
                            "      <th>AboveMedianPrice</th>\n",
                            "    </tr>\n",
                            "  </thead>\n",
                            "  <tbody>\n",
                            "    <tr>\n",
                            "      <th>0</th>\n",
                            "      <td>8450</td>\n",
                            "      <td>7</td>\n",
                            "      <td>5</td>\n",
                            "      <td>856</td>\n",
                            "      <td>2</td>\n",
                            "      <td>1</td>\n",
                            "      <td>3</td>\n",
                            "      <td>8</td>\n",
                            "      <td>0</td>\n",
                            "      <td>548</td>\n",
                            "      <td>1</td>\n",
                            "    </tr>\n",
                            "    <tr>\n",
                            "      <th>1</th>\n",
                            "      <td>9600</td>\n",
                            "      <td>6</td>\n",
                            "      <td>8</td>\n",
                            "      <td>1262</td>\n",
                            "      <td>2</td>\n",
                            "      <td>0</td>\n",
                            "      <td>3</td>\n",
                            "      <td>6</td>\n",
                            "      <td>1</td>\n",
                            "      <td>460</td>\n",
                            "      <td>1</td>\n",
                            "    </tr>\n",
                            "    <tr>\n",
                            "      <th>2</th>\n",
                            "      <td>11250</td>\n",
                            "      <td>7</td>\n",
                            "      <td>5</td>\n",
                            "      <td>920</td>\n",
                            "      <td>2</td>\n",
                            "      <td>1</td>\n",
                            "      <td>3</td>\n",
                            "      <td>6</td>\n",
                            "      <td>1</td>\n",
                            "      <td>608</td>\n",
                            "      <td>1</td>\n",
                            "    </tr>\n",
                            "    <tr>\n",
                            "      <th>3</th>\n",
                            "      <td>9550</td>\n",
                            "      <td>7</td>\n",
                            "      <td>5</td>\n",
                            "      <td>756</td>\n",
                            "      <td>1</td>\n",
                            "      <td>0</td>\n",
                            "      <td>3</td>\n",
                            "      <td>7</td>\n",
                            "      <td>1</td>\n",
                            "      <td>642</td>\n",
                            "      <td>0</td>\n",
                            "    </tr>\n",
                            "    <tr>\n",
                            "      <th>4</th>\n",
                            "      <td>14260</td>\n",
                            "      <td>8</td>\n",
                            "      <td>5</td>\n",
                            "      <td>1145</td>\n",
                            "      <td>2</td>\n",
                            "      <td>1</td>\n",
                            "      <td>4</td>\n",
                            "      <td>9</td>\n",
                            "      <td>1</td>\n",
                            "      <td>836</td>\n",
                            "      <td>1</td>\n",
                            "    </tr>\n",
                            "  </tbody>\n",
                            "</table>\n",
                            "</div>"
                        ]
                    },
                    "metadata": {},
                    "execution_count": 46
                }
            ],
            "metadata": {}
        },
        {
            "cell_type": "code",
            "execution_count": 47,
            "source": [
                "df=df.dropna()"
            ],
            "outputs": [],
            "metadata": {}
        },
        {
            "cell_type": "code",
            "execution_count": 48,
            "source": [
                "sns.countplot(x='LotArea',hue='AboveMedianPrice',data=df,order=pd.value_counts(df['LotArea']).iloc[:10].index)\r\n",
                "#as we go higher in lot area above median price bars increases...taking slice as it would be mess else"
            ],
            "outputs": [
                {
                    "output_type": "execute_result",
                    "data": {
                        "text/plain": [
                            "<AxesSubplot:xlabel='LotArea', ylabel='count'>"
                        ]
                    },
                    "metadata": {},
                    "execution_count": 48
                },
                {
                    "output_type": "display_data",
                    "data": {
                        "text/plain": [
                            "<Figure size 432x288 with 1 Axes>"
                        ],
                        "image/png": "[encoded data removed]"
                    },
                    "metadata": {
                        "needs_background": "light"
                    }
                }
            ],
            "metadata": {}
        },
        {
            "cell_type": "code",
            "execution_count": 49,
            "source": [
                "sns.histplot(x='LotArea', hue='AboveMedianPrice',data=df)\r\n",
                "#more the better as orange line arre increasing as we go right"
            ],
            "outputs": [
                {
                    "output_type": "execute_result",
                    "data": {
                        "text/plain": [
                            "<AxesSubplot:xlabel='LotArea', ylabel='Count'>"
                        ]
                    },
                    "metadata": {},
                    "execution_count": 49
                },
                {
                    "output_type": "display_data",
                    "data": {
                        "text/plain": [
                            "<Figure size 432x288 with 1 Axes>"
                        ],
                        "image/png": "[encoded data removed]"
                    },
                    "metadata": {
                        "needs_background": "light"
                    }
                }
            ],
            "metadata": {}
        },
        {
            "cell_type": "code",
            "execution_count": 50,
            "source": [
                "sns.countplot(x='OverallQual',hue='AboveMedianPrice',data=df)\r\n",
                "#higher overallqual== above median price increases"
            ],
            "outputs": [
                {
                    "output_type": "execute_result",
                    "data": {
                        "text/plain": [
                            "<AxesSubplot:xlabel='OverallQual', ylabel='count'>"
                        ]
                    },
                    "metadata": {},
                    "execution_count": 50
                },
                {
                    "output_type": "display_data",
                    "data": {
                        "text/plain": [
                            "<Figure size 432x288 with 1 Axes>"
                        ],
                        "image/png": "[encoded data removed]"
                    },
                    "metadata": {
                        "needs_background": "light"
                    }
                }
            ],
            "metadata": {}
        },
        {
            "cell_type": "code",
            "execution_count": 51,
            "source": [
                "sns.countplot(x='OverallCond',hue='AboveMedianPrice',data=df)\r\n",
                "#it reaches peak at 5 and then starts decreasing...we could divide it into two parts >5 or <5 and ==5 for better results"
            ],
            "outputs": [
                {
                    "output_type": "execute_result",
                    "data": {
                        "text/plain": [
                            "<AxesSubplot:xlabel='OverallCond', ylabel='count'>"
                        ]
                    },
                    "metadata": {},
                    "execution_count": 51
                },
                {
                    "output_type": "display_data",
                    "data": {
                        "text/plain": [
                            "<Figure size 432x288 with 1 Axes>"
                        ],
                        "image/png": "[encoded data removed]"
                    },
                    "metadata": {
                        "needs_background": "light"
                    }
                }
            ],
            "metadata": {}
        },
        {
            "cell_type": "code",
            "execution_count": 52,
            "source": [
                "sns.countplot(x='TotalBsmtSF',hue='AboveMedianPrice',data=df)"
            ],
            "outputs": [
                {
                    "output_type": "execute_result",
                    "data": {
                        "text/plain": [
                            "<AxesSubplot:xlabel='TotalBsmtSF', ylabel='count'>"
                        ]
                    },
                    "metadata": {},
                    "execution_count": 52
                },
                {
                    "output_type": "display_data",
                    "data": {
                        "text/plain": [
                            "<Figure size 432x288 with 1 Axes>"
                        ],
                        "image/png": "[encoded data removed]"
                    },
                    "metadata": {
                        "needs_background": "light"
                    }
                }
            ],
            "metadata": {}
        },
        {
            "cell_type": "code",
            "execution_count": 53,
            "source": [
                "sns.histplot(x='TotalBsmtSF',hue='AboveMedianPrice',data=df)\r\n",
                "#higher bsmtsf=higher above median price"
            ],
            "outputs": [
                {
                    "output_type": "execute_result",
                    "data": {
                        "text/plain": [
                            "<AxesSubplot:xlabel='TotalBsmtSF', ylabel='Count'>"
                        ]
                    },
                    "metadata": {},
                    "execution_count": 53
                },
                {
                    "output_type": "display_data",
                    "data": {
                        "text/plain": [
                            "<Figure size 432x288 with 1 Axes>"
                        ],
                        "image/png": "[encoded data removed]"
                    },
                    "metadata": {
                        "needs_background": "light"
                    }
                }
            ],
            "metadata": {}
        },
        {
            "cell_type": "code",
            "execution_count": 54,
            "source": [
                "sns.countplot(x='FullBath',hue='AboveMedianPrice',data=df)\r\n",
                "#higher full bath= above median"
            ],
            "outputs": [
                {
                    "output_type": "execute_result",
                    "data": {
                        "text/plain": [
                            "<AxesSubplot:xlabel='FullBath', ylabel='count'>"
                        ]
                    },
                    "metadata": {},
                    "execution_count": 54
                },
                {
                    "output_type": "display_data",
                    "data": {
                        "text/plain": [
                            "<Figure size 432x288 with 1 Axes>"
                        ],
                        "image/png": "[encoded data removed]"
                    },
                    "metadata": {
                        "needs_background": "light"
                    }
                }
            ],
            "metadata": {}
        },
        {
            "cell_type": "code",
            "execution_count": 55,
            "source": [
                "sns.countplot(x='HalfBath',hue='AboveMedianPrice',data=df)\r\n",
                "#more half bath=above median price"
            ],
            "outputs": [
                {
                    "output_type": "execute_result",
                    "data": {
                        "text/plain": [
                            "<AxesSubplot:xlabel='HalfBath', ylabel='count'>"
                        ]
                    },
                    "metadata": {},
                    "execution_count": 55
                },
                {
                    "output_type": "display_data",
                    "data": {
                        "text/plain": [
                            "<Figure size 432x288 with 1 Axes>"
                        ],
                        "image/png": "[encoded data removed]"
                    },
                    "metadata": {
                        "needs_background": "light"
                    }
                }
            ],
            "metadata": {}
        },
        {
            "cell_type": "code",
            "execution_count": 56,
            "source": [
                "sns.countplot(x='BedroomAbvGr',hue='AboveMedianPrice',data=df)\r\n",
                "#more=better"
            ],
            "outputs": [
                {
                    "output_type": "execute_result",
                    "data": {
                        "text/plain": [
                            "<AxesSubplot:xlabel='BedroomAbvGr', ylabel='count'>"
                        ]
                    },
                    "metadata": {},
                    "execution_count": 56
                },
                {
                    "output_type": "display_data",
                    "data": {
                        "text/plain": [
                            "<Figure size 432x288 with 1 Axes>"
                        ],
                        "image/png": "[encoded data removed]"
                    },
                    "metadata": {
                        "needs_background": "light"
                    }
                }
            ],
            "metadata": {}
        },
        {
            "cell_type": "code",
            "execution_count": 57,
            "source": [
                "sns.countplot(x='TotRmsAbvGrd',hue='AboveMedianPrice',data=df)\r\n",
                "#more is better"
            ],
            "outputs": [
                {
                    "output_type": "execute_result",
                    "data": {
                        "text/plain": [
                            "<AxesSubplot:xlabel='TotRmsAbvGrd', ylabel='count'>"
                        ]
                    },
                    "metadata": {},
                    "execution_count": 57
                },
                {
                    "output_type": "display_data",
                    "data": {
                        "text/plain": [
                            "<Figure size 432x288 with 1 Axes>"
                        ],
                        "image/png": "[encoded data removed]"
                    },
                    "metadata": {
                        "needs_background": "light"
                    }
                }
            ],
            "metadata": {}
        },
        {
            "cell_type": "code",
            "execution_count": 58,
            "source": [
                "sns.countplot(x='Fireplaces',hue='AboveMedianPrice',data=df)\r\n",
                "#more the better"
            ],
            "outputs": [
                {
                    "output_type": "execute_result",
                    "data": {
                        "text/plain": [
                            "<AxesSubplot:xlabel='Fireplaces', ylabel='count'>"
                        ]
                    },
                    "metadata": {},
                    "execution_count": 58
                },
                {
                    "output_type": "display_data",
                    "data": {
                        "text/plain": [
                            "<Figure size 432x288 with 1 Axes>"
                        ],
                        "image/png": "[encoded data removed]"
                    },
                    "metadata": {
                        "needs_background": "light"
                    }
                }
            ],
            "metadata": {}
        },
        {
            "cell_type": "code",
            "execution_count": 59,
            "source": [
                "sns.histplot(x='GarageArea',hue='AboveMedianPrice',data=df)\r\n",
                "#more the better"
            ],
            "outputs": [
                {
                    "output_type": "execute_result",
                    "data": {
                        "text/plain": [
                            "<AxesSubplot:xlabel='GarageArea', ylabel='Count'>"
                        ]
                    },
                    "metadata": {},
                    "execution_count": 59
                },
                {
                    "output_type": "display_data",
                    "data": {
                        "text/plain": [
                            "<Figure size 432x288 with 1 Axes>"
                        ],
                        "image/png": "[encoded data removed]"
                    },
                    "metadata": {
                        "needs_background": "light"
                    }
                }
            ],
            "metadata": {}
        },
        {
            "cell_type": "code",
            "execution_count": 60,
            "source": [
                "for i in range(df.shape[0]):\r\n",
                "   if df['OverallCond'].iloc[i]<5 or df['OverallCond'].iloc[i]>5:\r\n",
                "      df['OverallCond'].iloc[i]=0\r\n",
                "   if df['OverallCond'].iloc[i]==5:\r\n",
                "       df['OverallCond'].iloc[i]=1\r\n",
                "#defining a feature in a better way"
            ],
            "outputs": [],
            "metadata": {}
        },
        {
            "cell_type": "code",
            "execution_count": 61,
            "source": [
                "df=df.rename(columns={'OverallCond':'is it 5'})\r\n",
                "#renaming column which is changed for better"
            ],
            "outputs": [],
            "metadata": {}
        },
        {
            "cell_type": "code",
            "execution_count": 62,
            "source": [
                "df.head()\r\n",
                "#head of data"
            ],
            "outputs": [
                {
                    "output_type": "execute_result",
                    "data": {
                        "text/plain": [
                            "   LotArea  OverallQual  is it 5  TotalBsmtSF  FullBath  HalfBath  \\\n",
                            "0     8450            7        1          856         2         1   \n",
                            "1     9600            6        0         1262         2         0   \n",
                            "2    11250            7        1          920         2         1   \n",
                            "3     9550            7        1          756         1         0   \n",
                            "4    14260            8        1         1145         2         1   \n",
                            "\n",
                            "   BedroomAbvGr  TotRmsAbvGrd  Fireplaces  GarageArea  AboveMedianPrice  \n",
                            "0             3             8           0         548                 1  \n",
                            "1             3             6           1         460                 1  \n",
                            "2             3             6           1         608                 1  \n",
                            "3             3             7           1         642                 0  \n",
                            "4             4             9           1         836                 1  "
                        ],
                        "text/html": [
                            "<div>\n",
                            "<style scoped>\n",
                            "    .dataframe tbody tr th:only-of-type {\n",
                            "        vertical-align: middle;\n",
                            "    }\n",
                            "\n",
                            "    .dataframe tbody tr th {\n",
                            "        vertical-align: top;\n",
                            "    }\n",
                            "\n",
                            "    .dataframe thead th {\n",
                            "        text-align: right;\n",
                            "    }\n",
                            "</style>\n",
                            "<table border=\"1\" class=\"dataframe\">\n",
                            "  <thead>\n",
                            "    <tr style=\"text-align: right;\">\n",
                            "      <th></th>\n",
                            "      <th>LotArea</th>\n",
                            "      <th>OverallQual</th>\n",
                            "      <th>is it 5</th>\n",
                            "      <th>TotalBsmtSF</th>\n",
                            "      <th>FullBath</th>\n",
                            "      <th>HalfBath</th>\n",
                            "      <th>BedroomAbvGr</th>\n",
                            "      <th>TotRmsAbvGrd</th>\n",
                            "      <th>Fireplaces</th>\n",
                            "      <th>GarageArea</th>\n",
                            "      <th>AboveMedianPrice</th>\n",
                            "    </tr>\n",
                            "  </thead>\n",
                            "  <tbody>\n",
                            "    <tr>\n",
                            "      <th>0</th>\n",
                            "      <td>8450</td>\n",
                            "      <td>7</td>\n",
                            "      <td>1</td>\n",
                            "      <td>856</td>\n",
                            "      <td>2</td>\n",
                            "      <td>1</td>\n",
                            "      <td>3</td>\n",
                            "      <td>8</td>\n",
                            "      <td>0</td>\n",
                            "      <td>548</td>\n",
                            "      <td>1</td>\n",
                            "    </tr>\n",
                            "    <tr>\n",
                            "      <th>1</th>\n",
                            "      <td>9600</td>\n",
                            "      <td>6</td>\n",
                            "      <td>0</td>\n",
                            "      <td>1262</td>\n",
                            "      <td>2</td>\n",
                            "      <td>0</td>\n",
                            "      <td>3</td>\n",
                            "      <td>6</td>\n",
                            "      <td>1</td>\n",
                            "      <td>460</td>\n",
                            "      <td>1</td>\n",
                            "    </tr>\n",
                            "    <tr>\n",
                            "      <th>2</th>\n",
                            "      <td>11250</td>\n",
                            "      <td>7</td>\n",
                            "      <td>1</td>\n",
                            "      <td>920</td>\n",
                            "      <td>2</td>\n",
                            "      <td>1</td>\n",
                            "      <td>3</td>\n",
                            "      <td>6</td>\n",
                            "      <td>1</td>\n",
                            "      <td>608</td>\n",
                            "      <td>1</td>\n",
                            "    </tr>\n",
                            "    <tr>\n",
                            "      <th>3</th>\n",
                            "      <td>9550</td>\n",
                            "      <td>7</td>\n",
                            "      <td>1</td>\n",
                            "      <td>756</td>\n",
                            "      <td>1</td>\n",
                            "      <td>0</td>\n",
                            "      <td>3</td>\n",
                            "      <td>7</td>\n",
                            "      <td>1</td>\n",
                            "      <td>642</td>\n",
                            "      <td>0</td>\n",
                            "    </tr>\n",
                            "    <tr>\n",
                            "      <th>4</th>\n",
                            "      <td>14260</td>\n",
                            "      <td>8</td>\n",
                            "      <td>1</td>\n",
                            "      <td>1145</td>\n",
                            "      <td>2</td>\n",
                            "      <td>1</td>\n",
                            "      <td>4</td>\n",
                            "      <td>9</td>\n",
                            "      <td>1</td>\n",
                            "      <td>836</td>\n",
                            "      <td>1</td>\n",
                            "    </tr>\n",
                            "  </tbody>\n",
                            "</table>\n",
                            "</div>"
                        ]
                    },
                    "metadata": {},
                    "execution_count": 62
                }
            ],
            "metadata": {}
        },
        {
            "cell_type": "code",
            "execution_count": 63,
            "source": [
                "train, validate, test = \\\r\n",
                "              np.split(df.sample(frac=1, random_state=42), \r\n",
                "                       [int(.7*len(df)), int(.8*len(df))])\r\n",
                "#splitting data"
            ],
            "outputs": [],
            "metadata": {}
        },
        {
            "cell_type": "code",
            "execution_count": 64,
            "source": [
                "input_size=df.shape[1]-1\r\n",
                "hidden_size=10\r\n",
                "output_size=1\r\n",
                "#defining size of neuron in a level"
            ],
            "outputs": [],
            "metadata": {}
        },
        {
            "cell_type": "code",
            "execution_count": 65,
            "source": [
                "def random_initialization(a,s):\r\n",
                "    return (np.random.random((a+1)*s).reshape(s,a+1))\r\n",
                "#random initialization of weight matrix"
            ],
            "outputs": [],
            "metadata": {}
        },
        {
            "cell_type": "code",
            "execution_count": 66,
            "source": [
                "theta_one=random_initialization(input_size,hidden_size)\r\n",
                "theta_two=random_initialization(hidden_size,hidden_size)\r\n",
                "theta_three=random_initialization(hidden_size,hidden_size)\r\n",
                "theta_four=random_initialization(hidden_size,hidden_size)\r\n",
                "theta_five=random_initialization(hidden_size,hidden_size)\r\n",
                "theta_six=random_initialization(hidden_size,output_size)\r\n",
                "#weight matrix"
            ],
            "outputs": [],
            "metadata": {}
        },
        {
            "cell_type": "code",
            "execution_count": 67,
            "source": [
                "theta_one.shape,theta_two.shape,theta_three.shape,theta_four.shape,theta_five.shape,theta_six.shape\r\n",
                "#shapes of all"
            ],
            "outputs": [
                {
                    "output_type": "execute_result",
                    "data": {
                        "text/plain": [
                            "((10, 11), (10, 11), (10, 11), (10, 11), (10, 11), (1, 11))"
                        ]
                    },
                    "metadata": {},
                    "execution_count": 67
                }
            ],
            "metadata": {}
        },
        {
            "cell_type": "code",
            "execution_count": 68,
            "source": [
                "def inserting(s):\r\n",
                "    return (np.insert(s,0,values=1,axis=1))\r\n",
                "#function to insert bias"
            ],
            "outputs": [],
            "metadata": {}
        },
        {
            "cell_type": "code",
            "execution_count": 69,
            "source": [
                "def sigmoid(z):\r\n",
                "    return (1/(1+np.exp(-z)))\r\n",
                "#sigmoid activation"
            ],
            "outputs": [],
            "metadata": {}
        },
        {
            "cell_type": "code",
            "execution_count": 70,
            "source": [
                "def derived_sigmoid(z):\r\n",
                "    return (np.multiply(sigmoid(z),(1-sigmoid(z))))\r\n",
                "#derivative of sigmoid"
            ],
            "outputs": [],
            "metadata": {}
        },
        {
            "cell_type": "code",
            "execution_count": 71,
            "source": [
                "X_train=train.drop('AboveMedianPrice',axis=1).values\r\n",
                "X_validation=validate.drop('AboveMedianPrice',axis=1).values\r\n",
                "X_test=test.drop('AboveMedianPrice',axis=1).values\r\n",
                "y_train=train[['AboveMedianPrice']].values\r\n",
                "y_validation=validate[['AboveMedianPrice']].values\r\n",
                "y_test=test[['AboveMedianPrice']].values\r\n",
                "#defining x and y"
            ],
            "outputs": [],
            "metadata": {}
        },
        {
            "cell_type": "code",
            "execution_count": 72,
            "source": [
                "X_train.shape,X_validation.shape,X_test.shape\r\n",
                "#shapes"
            ],
            "outputs": [
                {
                    "output_type": "execute_result",
                    "data": {
                        "text/plain": [
                            "((1021, 10), (147, 10), (292, 10))"
                        ]
                    },
                    "metadata": {},
                    "execution_count": 72
                }
            ],
            "metadata": {}
        },
        {
            "cell_type": "code",
            "execution_count": 73,
            "source": [
                "def softmax(z):\r\n",
                "    return (np.exp(z)/(np.sum(np.exp(z))))\r\n",
                "#softmax...can be used for last layer"
            ],
            "outputs": [],
            "metadata": {}
        },
        {
            "cell_type": "code",
            "execution_count": 74,
            "source": [
                "def forward_prop(x,theta_one,theta_two,theta_three,theta_four,theta_five,theta_six):\r\n",
                "    a1=inserting(x)#1021x11\r\n",
                "    z2=np.dot(a1,theta_one.T)#1021x10\r\n",
                "    a2=inserting(sigmoid(z2))#1021x11\r\n",
                "    z3=np.dot(a2,theta_two.T)#1021x10\r\n",
                "    a3=inserting(sigmoid(z3))#1021x11\r\n",
                "    z4=np.dot(a3,theta_three.T)#1021x10\r\n",
                "    a4=inserting(sigmoid(z4))#1021x11\r\n",
                "    z5=np.dot(a4,theta_four.T)#1021x10\r\n",
                "    a5=inserting(sigmoid(z5))#1021x11\r\n",
                "    z6=np.dot(a5,theta_five.T)#1021x10\r\n",
                "    a6=inserting(sigmoid(z6))#1021x11\r\n",
                "    z7=np.dot(a6,theta_six.T)#1021x1\r\n",
                "    h=sigmoid(z7)#1021x1\r\n",
                "    return a1,z2,a2,z3,a3,z4,a4,z5,a5,z6,a6,z7,h\r\n",
                "    #forward propogation"
            ],
            "outputs": [],
            "metadata": {}
        },
        {
            "cell_type": "code",
            "execution_count": 75,
            "source": [
                "def cost(X,theta_one,theta_two,theta_three,theta_four,theta_five,theta_six,Y):\r\n",
                "    a1,z2,a2,z3,a3,z4,a4,z5,a5,z6,a6,z7,h=forward_prop(X,theta_one,theta_two,theta_three,theta_four,theta_five,theta_six)\r\n",
                "    first_term=np.dot(Y.T,np.log(h))\r\n",
                "    m=len(X)\r\n",
                "    second_term=np.dot((1-Y).T,np.log(1-h))\r\n",
                "    total_term=(first_term+second_term)/(-m)\r\n",
                "    lam=0.001\r\n",
                "    reg_term=(lam/(2*m))\r\n",
                "    term=np.sum(np.power(theta_one[:,1:],2))\r\n",
                "    term=term+np.sum(np.power(theta_two[:,1:],2))\r\n",
                "    term=term+np.sum(np.power(theta_three[:,1:],2))\r\n",
                "    term=term+np.sum(np.power(theta_four[:,1:],2))\r\n",
                "    term=term+np.sum(np.power(theta_five[:,1:],2))\r\n",
                "    term=term+np.sum(np.power(theta_six[:,1:],2))\r\n",
                "    term=term*reg_term\r\n",
                "    return (total_term+term)\r\n",
                "#cost function"
            ],
            "outputs": [],
            "metadata": {}
        },
        {
            "cell_type": "code",
            "execution_count": 76,
            "source": [
                "cost(X_train,theta_one,theta_two, theta_three,theta_four,theta_five,theta_six,y_train)\r\n",
                "#calling function just for checking"
            ],
            "outputs": [
                {
                    "output_type": "execute_result",
                    "data": {
                        "text/plain": [
                            "array([[2.83490322]])"
                        ]
                    },
                    "metadata": {},
                    "execution_count": 76
                }
            ],
            "metadata": {}
        },
        {
            "cell_type": "code",
            "execution_count": 77,
            "source": [
                "def back_prop(theta_one,theta_two,theta_three,theta_four,theta_five,theta_six,Y,X):\r\n",
                "   a1,z2,a2,z3,a3,z4,a4,z5,a6,z6,a6,z7,h=forward_prop(X,theta_one,theta_two,theta_three,theta_four,theta_five,theta_six)\r\n",
                "   del_seven=h-Y#1021x1\r\n",
                "   z6t=inserting(z6)#1021x11\r\n",
                "   del_six=np.multiply(np.dot(theta_six.T,del_seven.T).T,derived_sigmoid(z6t))#1021x11\r\n",
                "   z5t=inserting(z5)#1021x11\r\n",
                "   del_five=np.multiply(np.dot(theta_five.T,del_six[:,1:].T).T,derived_sigmoid(z5t))#1021x11\r\n",
                "   z4t=inserting(z4)#1021x11\r\n",
                "   del_four=np.multiply(np.dot(theta_four.T,del_five[:,1:].T).T,derived_sigmoid(z4t))#1021x11\r\n",
                "   z3t=inserting(z3)#1021x11\r\n",
                "   del_three=np.multiply(np.dot(theta_three.T,del_four[:,1:].T).T,derived_sigmoid(z3t))#1021x11\r\n",
                "   z2t=inserting(z2)#1021x11\r\n",
                "   del_two=np.multiply(np.dot(theta_two.T,del_three[:,1:].T).T,derived_sigmoid(z2t))#1021x11\r\n",
                "   return del_seven,del_six,del_five,del_four,del_three,del_two\r\n",
                "   #back propogation"
            ],
            "outputs": [],
            "metadata": {}
        },
        {
            "cell_type": "code",
            "execution_count": 101,
            "source": [
                "def gradient_descent(X,Y,theta_one,theta_two,theta_three,theta_four,theta_five,theta_six):\r\n",
                "    m=len(X)\r\n",
                "    alpha=0.00001\r\n",
                "    lam=0.001\r\n",
                "    reg=(lam/m)*alpha\r\n",
                "    term_one=alpha/m\r\n",
                "    costi=np.zeros(1000)\r\n",
                "    for i in range(1000):\r\n",
                "        a1,z2,a2,z3,a3,z4,a4,z5,a5,z6,a6,z7,h=forward_prop(X,theta_one,theta_two,theta_three,theta_four,theta_five,theta_six)\r\n",
                "        delta_one,delta_two,delta_three,delta_four,delta_five,delta_six=back_prop(theta_one,theta_two,theta_three,theta_four,theta_five,theta_six,Y,X)\r\n",
                "        big_one=np.dot(delta_six[:,1:].T,a1)#10x11\r\n",
                "        big_two=np.dot(delta_five[:,1:].T,a2)#10x11\r\n",
                "        big_three=np.dot(delta_four[:,1:].T,a3)#10x11\r\n",
                "        big_four=np.dot(delta_three[:,1:].T,a4)#10x11\r\n",
                "        big_five=np.dot(delta_two[:,1:].T,a5)#10x11\r\n",
                "        big_six=np.dot(delta_one.T,a6)#1x11\r\n",
                "        big_one=big_one*term_one\r\n",
                "        big_two=big_two*term_one\r\n",
                "        big_three=big_three*term_one\r\n",
                "        big_four=big_four*term_one\r\n",
                "        big_five=big_five*term_one\r\n",
                "        big_six=big_six*term_one\r\n",
                "        big_one[:,1:]=big_one[:,1:]+(theta_one[:,1:]*reg)\r\n",
                "        big_two[:,1:]=big_two[:,1:]+(theta_two[:,1:]*reg)\r\n",
                "        big_three[:,1:]=big_three[:,1:]+(theta_three[:,1:]*reg)\r\n",
                "        big_four[:,1:]=big_four[:,1:]+(theta_four[:,1:]*reg)\r\n",
                "        big_five[:,1:]=big_five[:,1:]+(theta_five[:,1:]*reg)\r\n",
                "        big_six[:,1:]=big_six[:,1:]+(theta_six[:,1:]*reg)\r\n",
                "        theta_one=theta_one-big_one\r\n",
                "        theta_two=theta_two-big_two\r\n",
                "        theta_three=theta_three-big_three\r\n",
                "        theta_four=theta_four-big_four\r\n",
                "        theta_five=theta_five-big_five\r\n",
                "        theta_six=theta_six-big_six\r\n",
                "        a1,z2,a2,z3,a3,z4,a4,z5,a5,z6,a6,z7,h=forward_prop(X,theta_one,theta_two,theta_three,theta_four,theta_five,theta_six)\r\n",
                "        costi[i]=cost( X, theta_one, theta_two, theta_three,theta_four,theta_five,theta_six,Y)\r\n",
                "    return theta_one,theta_two,theta_three,theta_four,theta_five,theta_six,h,costi\r\n",
                "    #gradient descent"
            ],
            "outputs": [],
            "metadata": {}
        },
        {
            "cell_type": "code",
            "execution_count": 87,
            "source": [
                "a,b,c,h,er,fg,g,costi=gradient_descent(X_train, y_train, theta_one, theta_two, theta_three,theta_four,theta_five,theta_six)"
            ],
            "outputs": [],
            "metadata": {}
        },
        {
            "cell_type": "code",
            "execution_count": 89,
            "source": [
                "costi[9],costi[99],costi[999],costi[9999],costi[19999],costi[49999]\r\n",
                "#cost function is converging"
            ],
            "outputs": [
                {
                    "output_type": "execute_result",
                    "data": {
                        "text/plain": [
                            "(2.834629000727346,\n",
                            " 2.832161121280333,\n",
                            " 2.807492327341519,\n",
                            " 2.5620054277653357,\n",
                            " 2.2929150076568034,\n",
                            " 1.5412799692276107)"
                        ]
                    },
                    "metadata": {},
                    "execution_count": 89
                }
            ],
            "metadata": {}
        },
        {
            "cell_type": "code",
            "execution_count": 90,
            "source": [
                "stage_1=np.dot(inserting(X_validation),a.T)\r\n",
                "stage_2=np.dot(inserting(X_validation),b.T)\r\n",
                "stage_3=np.dot(inserting(X_validation),c.T)\r\n",
                "stage_4=np.dot(inserting(X_validation),h.T)\r\n",
                "stage_5=np.dot(inserting(X_validation),er.T)\r\n",
                "stage_6=np.dot(inserting(X_validation),fg.T)\r\n",
                "#for validation set"
            ],
            "outputs": [],
            "metadata": {}
        },
        {
            "cell_type": "code",
            "execution_count": 91,
            "source": [
                "stage_6\r\n",
                "#answer for validation set....but it will take lot of iteration to converge"
            ],
            "outputs": [
                {
                    "output_type": "execute_result",
                    "data": {
                        "text/plain": [
                            "array([[ 928.31197963],\n",
                            "       [ 804.34680214],\n",
                            "       [2060.1901602 ],\n",
                            "       [ 868.87231252],\n",
                            "       [1450.18583349],\n",
                            "       [1512.36084232],\n",
                            "       [ 927.41010916],\n",
                            "       [1544.05613276],\n",
                            "       [1149.49797438],\n",
                            "       [1519.51964008],\n",
                            "       [ 917.76271472],\n",
                            "       [ 883.6006954 ],\n",
                            "       [ 757.15730807],\n",
                            "       [1334.56760366],\n",
                            "       [1117.45244532],\n",
                            "       [1764.63562433],\n",
                            "       [ 997.43888258],\n",
                            "       [ 855.95404366],\n",
                            "       [1652.77337342],\n",
                            "       [5848.07972011],\n",
                            "       [1115.75920936],\n",
                            "       [ 612.09866482],\n",
                            "       [2152.61176891],\n",
                            "       [1083.15599735],\n",
                            "       [1685.03533233],\n",
                            "       [1072.13770095],\n",
                            "       [1174.39578911],\n",
                            "       [1550.11265881],\n",
                            "       [1301.39301863],\n",
                            "       [1690.09985292],\n",
                            "       [1219.04194444],\n",
                            "       [1775.03979055],\n",
                            "       [1268.07399329],\n",
                            "       [ 682.86111695],\n",
                            "       [2217.44818776],\n",
                            "       [ 826.52888375],\n",
                            "       [1179.19356644],\n",
                            "       [ 921.78671995],\n",
                            "       [ 275.88860196],\n",
                            "       [1292.58028797],\n",
                            "       [1270.73469346],\n",
                            "       [1728.74063895],\n",
                            "       [ 672.99803193],\n",
                            "       [1172.45346571],\n",
                            "       [1712.83061695],\n",
                            "       [1145.35238216],\n",
                            "       [1071.10344342],\n",
                            "       [1143.43674359],\n",
                            "       [1482.9375419 ],\n",
                            "       [ 902.44110435],\n",
                            "       [ 823.90701105],\n",
                            "       [1555.30339456],\n",
                            "       [1190.68166935],\n",
                            "       [1144.91839442],\n",
                            "       [1202.80671169],\n",
                            "       [1059.90462728],\n",
                            "       [1564.25403778],\n",
                            "       [1040.57251655],\n",
                            "       [1167.90706273],\n",
                            "       [ 677.98743818],\n",
                            "       [1472.39693052],\n",
                            "       [ 939.88820096],\n",
                            "       [1116.45659356],\n",
                            "       [1147.34588664],\n",
                            "       [1305.20919993],\n",
                            "       [1281.9751445 ],\n",
                            "       [ 541.99536749],\n",
                            "       [ 887.98437857],\n",
                            "       [1149.71982143],\n",
                            "       [1873.33300371],\n",
                            "       [1671.31143717],\n",
                            "       [2245.38293731],\n",
                            "       [1330.58762463],\n",
                            "       [1788.36369625],\n",
                            "       [1011.56962655],\n",
                            "       [1662.29321247],\n",
                            "       [1677.89143748],\n",
                            "       [1541.15858564],\n",
                            "       [1038.52104848],\n",
                            "       [1074.71287944],\n",
                            "       [ 825.84201582],\n",
                            "       [1305.3626565 ],\n",
                            "       [1839.46569856],\n",
                            "       [1296.10652264],\n",
                            "       [ 517.01692264],\n",
                            "       [ 934.56694975],\n",
                            "       [1990.37842538],\n",
                            "       [1015.51904099],\n",
                            "       [7620.30156786],\n",
                            "       [ 868.1710359 ],\n",
                            "       [ 715.60155758],\n",
                            "       [1127.02509172],\n",
                            "       [1357.9223396 ],\n",
                            "       [1504.41654168],\n",
                            "       [1500.06777862],\n",
                            "       [2010.31025364],\n",
                            "       [1433.98596367],\n",
                            "       [ 846.59231355],\n",
                            "       [ 883.19840645],\n",
                            "       [1175.76663134],\n",
                            "       [1326.03791224],\n",
                            "       [1781.15039861],\n",
                            "       [1021.1386244 ],\n",
                            "       [1512.54460236],\n",
                            "       [1519.70348519],\n",
                            "       [ 957.6960011 ],\n",
                            "       [1462.96554937],\n",
                            "       [1299.22205749],\n",
                            "       [1144.99933665],\n",
                            "       [1113.66657812],\n",
                            "       [1270.21790145],\n",
                            "       [ 811.79681208],\n",
                            "       [1165.79982706],\n",
                            "       [1798.09379013],\n",
                            "       [1749.00373938],\n",
                            "       [ 610.03656726],\n",
                            "       [ 613.46611232],\n",
                            "       [1240.0173734 ],\n",
                            "       [1558.8245178 ],\n",
                            "       [1454.81727246],\n",
                            "       [1243.89931825],\n",
                            "       [1247.65003764],\n",
                            "       [1175.02144679],\n",
                            "       [ 896.84366794],\n",
                            "       [ 668.58518169],\n",
                            "       [ 516.18410247],\n",
                            "       [1109.34465467],\n",
                            "       [1307.57343764],\n",
                            "       [1009.70594876],\n",
                            "       [1107.06728118],\n",
                            "       [1131.15356862],\n",
                            "       [1066.26254358],\n",
                            "       [1405.54495404],\n",
                            "       [ 175.13394821],\n",
                            "       [1365.16774384],\n",
                            "       [ 815.12920084],\n",
                            "       [1540.17068864],\n",
                            "       [2611.94389877],\n",
                            "       [1052.10587058],\n",
                            "       [1125.137302  ],\n",
                            "       [1251.79393087],\n",
                            "       [1656.06829298],\n",
                            "       [1170.70091959],\n",
                            "       [1591.667055  ],\n",
                            "       [1272.07900855],\n",
                            "       [1241.54983874],\n",
                            "       [ 885.20163342]])"
                        ]
                    },
                    "metadata": {},
                    "execution_count": 91
                }
            ],
            "metadata": {}
        },
        {
            "cell_type": "code",
            "execution_count": 83,
            "source": [
                "# this will get converge but it will take a lot of iteration...so i couldn't do it. you can try to find this by taking less no.data points which will converge on very less iteration as compare to others"
            ],
            "outputs": [],
            "metadata": {}
        }
    ],
    "metadata": {
        "orig_nbformat": 4,
        "language_info": {
            "name": "python",
            "version": "3.9.5",
            "mimetype": "text/x-python",
            "codemirror_mode": {
                "name": "ipython",
                "version": 3
            },
            "pygments_lexer": "ipython3",
            "nbconvert_exporter": "python",
            "file_extension": ".py"
        },
        "kernelspec": {
            "name": "python3",
            "display_name": "Python 3.9.5 64-bit"
        },
        "interpreter": {
            "hash": "33dc6d49505b4536b6a128d9d7c879e1fa44477ad44947bbbe73093067fe6393"
        }
    },
    "nbformat": 4,
    "nbformat_minor": 2
}