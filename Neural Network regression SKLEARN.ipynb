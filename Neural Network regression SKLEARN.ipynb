{
    "cells": [
        {
            "cell_type": "code",
            "execution_count": 1,
            "source": [
                "import numpy as np  \r\n",
                "import pandas as pd \r\n",
                "#importing modules, for graphical analysis, see the earlier repo"
            ],
            "outputs": [],
            "metadata": {}
        },
        {
            "cell_type": "code",
            "execution_count": 2,
            "source": [
                "df=pd.read_csv('USA_Housing.csv')\r\n",
                "#reading data"
            ],
            "outputs": [],
            "metadata": {}
        },
        {
            "cell_type": "code",
            "execution_count": 3,
            "source": [
                "df.head()\r\n",
                "#head"
            ],
            "outputs": [
                {
                    "output_type": "execute_result",
                    "data": {
                        "text/plain": [
                            "   Avg. Area Income  Avg. Area House Age  Avg. Area Number of Rooms  \\\n",
                            "0      79545.458574             5.682861                   7.009188   \n",
                            "1      79248.642455             6.002900                   6.730821   \n",
                            "2      61287.067179             5.865890                   8.512727   \n",
                            "3      63345.240046             7.188236                   5.586729   \n",
                            "4      59982.197226             5.040555                   7.839388   \n",
                            "\n",
                            "   Avg. Area Number of Bedrooms  Area Population         Price  \\\n",
                            "0                          4.09     23086.800503  1.059034e+06   \n",
                            "1                          3.09     40173.072174  1.505891e+06   \n",
                            "2                          5.13     36882.159400  1.058988e+06   \n",
                            "3                          3.26     34310.242831  1.260617e+06   \n",
                            "4                          4.23     26354.109472  6.309435e+05   \n",
                            "\n",
                            "                                             Address  \n",
                            "0  208 Michael Ferry Apt. 674\\nLaurabury, NE 3701...  \n",
                            "1  188 Johnson Views Suite 079\\nLake Kathleen, CA...  \n",
                            "2  9127 Elizabeth Stravenue\\nDanieltown, WI 06482...  \n",
                            "3                          USS Barnett\\nFPO AP 44820  \n",
                            "4                         USNS Raymond\\nFPO AE 09386  "
                        ],
                        "text/html": [
                            "<div>\n",
                            "<style scoped>\n",
                            "    .dataframe tbody tr th:only-of-type {\n",
                            "        vertical-align: middle;\n",
                            "    }\n",
                            "\n",
                            "    .dataframe tbody tr th {\n",
                            "        vertical-align: top;\n",
                            "    }\n",
                            "\n",
                            "    .dataframe thead th {\n",
                            "        text-align: right;\n",
                            "    }\n",
                            "</style>\n",
                            "<table border=\"1\" class=\"dataframe\">\n",
                            "  <thead>\n",
                            "    <tr style=\"text-align: right;\">\n",
                            "      <th></th>\n",
                            "      <th>Avg. Area Income</th>\n",
                            "      <th>Avg. Area House Age</th>\n",
                            "      <th>Avg. Area Number of Rooms</th>\n",
                            "      <th>Avg. Area Number of Bedrooms</th>\n",
                            "      <th>Area Population</th>\n",
                            "      <th>Price</th>\n",
                            "      <th>Address</th>\n",
                            "    </tr>\n",
                            "  </thead>\n",
                            "  <tbody>\n",
                            "    <tr>\n",
                            "      <th>0</th>\n",
                            "      <td>79545.458574</td>\n",
                            "      <td>5.682861</td>\n",
                            "      <td>7.009188</td>\n",
                            "      <td>4.09</td>\n",
                            "      <td>23086.800503</td>\n",
                            "      <td>1.059034e+06</td>\n",
                            "      <td>208 Michael Ferry Apt. 674\\nLaurabury, NE 3701...</td>\n",
                            "    </tr>\n",
                            "    <tr>\n",
                            "      <th>1</th>\n",
                            "      <td>79248.642455</td>\n",
                            "      <td>6.002900</td>\n",
                            "      <td>6.730821</td>\n",
                            "      <td>3.09</td>\n",
                            "      <td>40173.072174</td>\n",
                            "      <td>1.505891e+06</td>\n",
                            "      <td>188 Johnson Views Suite 079\\nLake Kathleen, CA...</td>\n",
                            "    </tr>\n",
                            "    <tr>\n",
                            "      <th>2</th>\n",
                            "      <td>61287.067179</td>\n",
                            "      <td>5.865890</td>\n",
                            "      <td>8.512727</td>\n",
                            "      <td>5.13</td>\n",
                            "      <td>36882.159400</td>\n",
                            "      <td>1.058988e+06</td>\n",
                            "      <td>9127 Elizabeth Stravenue\\nDanieltown, WI 06482...</td>\n",
                            "    </tr>\n",
                            "    <tr>\n",
                            "      <th>3</th>\n",
                            "      <td>63345.240046</td>\n",
                            "      <td>7.188236</td>\n",
                            "      <td>5.586729</td>\n",
                            "      <td>3.26</td>\n",
                            "      <td>34310.242831</td>\n",
                            "      <td>1.260617e+06</td>\n",
                            "      <td>USS Barnett\\nFPO AP 44820</td>\n",
                            "    </tr>\n",
                            "    <tr>\n",
                            "      <th>4</th>\n",
                            "      <td>59982.197226</td>\n",
                            "      <td>5.040555</td>\n",
                            "      <td>7.839388</td>\n",
                            "      <td>4.23</td>\n",
                            "      <td>26354.109472</td>\n",
                            "      <td>6.309435e+05</td>\n",
                            "      <td>USNS Raymond\\nFPO AE 09386</td>\n",
                            "    </tr>\n",
                            "  </tbody>\n",
                            "</table>\n",
                            "</div>"
                        ]
                    },
                    "metadata": {},
                    "execution_count": 3
                }
            ],
            "metadata": {}
        },
        {
            "cell_type": "code",
            "execution_count": 4,
            "source": [
                "df.shape"
            ],
            "outputs": [
                {
                    "output_type": "execute_result",
                    "data": {
                        "text/plain": [
                            "(5000, 7)"
                        ]
                    },
                    "metadata": {},
                    "execution_count": 4
                }
            ],
            "metadata": {}
        },
        {
            "cell_type": "code",
            "execution_count": 5,
            "source": [
                "df=df.drop('Address',axis=1)"
            ],
            "outputs": [],
            "metadata": {}
        },
        {
            "cell_type": "code",
            "execution_count": 6,
            "source": [
                "X=df.drop('Price',axis=1).values"
            ],
            "outputs": [],
            "metadata": {}
        },
        {
            "cell_type": "code",
            "execution_count": 7,
            "source": [
                "y=df[['Price']].values"
            ],
            "outputs": [],
            "metadata": {}
        },
        {
            "cell_type": "code",
            "execution_count": 8,
            "source": [
                "from sklearn.preprocessing import MinMaxScaler"
            ],
            "outputs": [],
            "metadata": {}
        },
        {
            "cell_type": "code",
            "execution_count": 9,
            "source": [
                "scaler=MinMaxScaler()"
            ],
            "outputs": [],
            "metadata": {}
        },
        {
            "cell_type": "code",
            "execution_count": 10,
            "source": [
                "from sklearn.model_selection import train_test_split\r\n",
                "#calling function to split the data"
            ],
            "outputs": [],
            "metadata": {}
        },
        {
            "cell_type": "code",
            "execution_count": 11,
            "source": [
                "X_train,X_test,y_train,y_test=train_test_split(X,y,random_state=101,train_size=0.7)"
            ],
            "outputs": [],
            "metadata": {}
        },
        {
            "cell_type": "code",
            "execution_count": 12,
            "source": [
                "train=scaler.fit_transform(X_train)\r\n",
                "test=scaler.fit_transform(X_test)"
            ],
            "outputs": [],
            "metadata": {}
        },
        {
            "cell_type": "code",
            "execution_count": 13,
            "source": [
                "from tensorflow.keras.models import Sequential\r\n",
                "from tensorflow.keras.layers import Dense\r\n",
                "from tensorflow.keras.optimizers import Adam\r\n",
                "from tensorflow.keras.callbacks import EarlyStopping\r\n",
                "#importing more modules"
            ],
            "outputs": [],
            "metadata": {}
        },
        {
            "cell_type": "code",
            "execution_count": 14,
            "source": [
                "early_stop = EarlyStopping(monitor='val_loss', mode='min', verbose=1, patience=25)   #defining early stop"
            ],
            "outputs": [],
            "metadata": {}
        },
        {
            "cell_type": "code",
            "execution_count": 15,
            "source": [
                "model=Sequential()\r\n",
                "model.add(Dense(5,activation='relu'))\r\n",
                "model.add(Dense(5,activation='relu'))\r\n",
                "model.add(Dense(5,activation='relu'))\r\n",
                "model.add(Dense(1,activation='relu'))\r\n",
                "model.compile(optimizer='adam',loss='mse')\r\n",
                "#defining model"
            ],
            "outputs": [],
            "metadata": {}
        },
        {
            "cell_type": "code",
            "execution_count": 16,
            "source": [
                "model.fit(x=X_train, \r\n",
                "          y=y_train, \r\n",
                "          epochs=600,\r\n",
                "          validation_data=(X_test, y_test), verbose=1,\r\n",
                "          callbacks=[early_stop]\r\n",
                "          )\r\n",
                "          #fitting the model"
            ],
            "outputs": [
                {
                    "output_type": "stream",
                    "name": "stdout",
                    "text": [
                        "Epoch 1/600\n",
                        "110/110 [==============================] - 2s 7ms/step - loss: 1415548370944.0000 - val_loss: 1303423746048.0000\n",
                        "Epoch 2/600\n",
                        "110/110 [==============================] - 0s 4ms/step - loss: 1022532452352.0000 - val_loss: 717352206336.0000\n",
                        "Epoch 3/600\n",
                        "110/110 [==============================] - 0s 4ms/step - loss: 376654397440.0000 - val_loss: 129573634048.0000\n",
                        "Epoch 4/600\n",
                        "110/110 [==============================] - 0s 3ms/step - loss: 75366252544.0000 - val_loss: 63007199232.0000\n",
                        "Epoch 5/600\n",
                        "110/110 [==============================] - 0s 3ms/step - loss: 62566281216.0000 - val_loss: 62930358272.0000\n",
                        "Epoch 6/600\n",
                        "110/110 [==============================] - 0s 4ms/step - loss: 62538231808.0000 - val_loss: 62847131648.0000\n",
                        "Epoch 7/600\n",
                        "110/110 [==============================] - 0s 4ms/step - loss: 62554025984.0000 - val_loss: 62872887296.0000\n",
                        "Epoch 8/600\n",
                        "110/110 [==============================] - 0s 4ms/step - loss: 62533074944.0000 - val_loss: 62854447104.0000\n",
                        "Epoch 9/600\n",
                        "110/110 [==============================] - 0s 4ms/step - loss: 62522183680.0000 - val_loss: 62882324480.0000\n",
                        "Epoch 10/600\n",
                        "110/110 [==============================] - 0s 4ms/step - loss: 62471086080.0000 - val_loss: 62890434560.0000\n",
                        "Epoch 11/600\n",
                        "110/110 [==============================] - 0s 3ms/step - loss: 62444695552.0000 - val_loss: 62835462144.0000\n",
                        "Epoch 12/600\n",
                        "110/110 [==============================] - 0s 4ms/step - loss: 62492286976.0000 - val_loss: 62833414144.0000\n",
                        "Epoch 13/600\n",
                        "110/110 [==============================] - 0s 4ms/step - loss: 62407749632.0000 - val_loss: 62846730240.0000\n",
                        "Epoch 14/600\n",
                        "110/110 [==============================] - 0s 5ms/step - loss: 62404104192.0000 - val_loss: 62856151040.0000\n",
                        "Epoch 15/600\n",
                        "110/110 [==============================] - 1s 5ms/step - loss: 62498533376.0000 - val_loss: 62961463296.0000\n",
                        "Epoch 16/600\n",
                        "110/110 [==============================] - 1s 5ms/step - loss: 62541594624.0000 - val_loss: 62882377728.0000\n",
                        "Epoch 17/600\n",
                        "110/110 [==============================] - 0s 4ms/step - loss: 62364282880.0000 - val_loss: 62845612032.0000\n",
                        "Epoch 18/600\n",
                        "110/110 [==============================] - 0s 4ms/step - loss: 62355124224.0000 - val_loss: 63044046848.0000\n",
                        "Epoch 19/600\n",
                        "110/110 [==============================] - 0s 3ms/step - loss: 62404550656.0000 - val_loss: 62840619008.0000\n",
                        "Epoch 20/600\n",
                        "110/110 [==============================] - 1s 5ms/step - loss: 62340632576.0000 - val_loss: 63030976512.0000\n",
                        "Epoch 21/600\n",
                        "110/110 [==============================] - 0s 4ms/step - loss: 62358642688.0000 - val_loss: 62959906816.0000\n",
                        "Epoch 22/600\n",
                        "110/110 [==============================] - 0s 4ms/step - loss: 62354067456.0000 - val_loss: 62896910336.0000\n",
                        "Epoch 23/600\n",
                        "110/110 [==============================] - 0s 4ms/step - loss: 62351138816.0000 - val_loss: 63020978176.0000\n",
                        "Epoch 24/600\n",
                        "110/110 [==============================] - 1s 5ms/step - loss: 62376636416.0000 - val_loss: 62904164352.0000\n",
                        "Epoch 25/600\n",
                        "110/110 [==============================] - 1s 5ms/step - loss: 62355976192.0000 - val_loss: 62915268608.0000\n",
                        "Epoch 26/600\n",
                        "110/110 [==============================] - 0s 4ms/step - loss: 62310359040.0000 - val_loss: 62905364480.0000\n",
                        "Epoch 27/600\n",
                        "110/110 [==============================] - 1s 5ms/step - loss: 62361927680.0000 - val_loss: 63095386112.0000\n",
                        "Epoch 28/600\n",
                        "110/110 [==============================] - 1s 5ms/step - loss: 62371782656.0000 - val_loss: 63143866368.0000\n",
                        "Epoch 29/600\n",
                        "110/110 [==============================] - 1s 6ms/step - loss: 62320160768.0000 - val_loss: 62927097856.0000\n",
                        "Epoch 30/600\n",
                        "110/110 [==============================] - 1s 5ms/step - loss: 62312345600.0000 - val_loss: 63103504384.0000\n",
                        "Epoch 31/600\n",
                        "110/110 [==============================] - 0s 4ms/step - loss: 62327402496.0000 - val_loss: 62912512000.0000\n",
                        "Epoch 32/600\n",
                        "110/110 [==============================] - 0s 4ms/step - loss: 62340354048.0000 - val_loss: 62994284544.0000\n",
                        "Epoch 33/600\n",
                        "110/110 [==============================] - 0s 3ms/step - loss: 62252257280.0000 - val_loss: 63216246784.0000\n",
                        "Epoch 34/600\n",
                        "110/110 [==============================] - 0s 3ms/step - loss: 62220886016.0000 - val_loss: 63079940096.0000\n",
                        "Epoch 35/600\n",
                        "110/110 [==============================] - 0s 4ms/step - loss: 62407024640.0000 - val_loss: 62955442176.0000\n",
                        "Epoch 36/600\n",
                        "110/110 [==============================] - 0s 4ms/step - loss: 62309531648.0000 - val_loss: 62936154112.0000\n",
                        "Epoch 37/600\n",
                        "110/110 [==============================] - 0s 4ms/step - loss: 62334390272.0000 - val_loss: 62951161856.0000\n",
                        "Epoch 00037: early stopping\n"
                    ]
                },
                {
                    "output_type": "execute_result",
                    "data": {
                        "text/plain": [
                            "<tensorflow.python.keras.callbacks.History at 0x2b4923b1c40>"
                        ]
                    },
                    "metadata": {},
                    "execution_count": 16
                }
            ],
            "metadata": {}
        },
        {
            "cell_type": "code",
            "execution_count": 17,
            "source": [
                "predictions=model.predict(X_test)"
            ],
            "outputs": [],
            "metadata": {}
        },
        {
            "cell_type": "code",
            "execution_count": 18,
            "source": [
                "model.predict(X_test)"
            ],
            "outputs": [
                {
                    "output_type": "execute_result",
                    "data": {
                        "text/plain": [
                            "array([[1236089. ],\n",
                            "       [1069233.2],\n",
                            "       [1388820. ],\n",
                            "       ...,\n",
                            "       [1236547.2],\n",
                            "       [ 996270.5],\n",
                            "       [1253488.2]], dtype=float32)"
                        ]
                    },
                    "metadata": {},
                    "execution_count": 18
                }
            ],
            "metadata": {}
        },
        {
            "cell_type": "code",
            "execution_count": 19,
            "source": [
                "y_test.shape"
            ],
            "outputs": [
                {
                    "output_type": "execute_result",
                    "data": {
                        "text/plain": [
                            "(1500, 1)"
                        ]
                    },
                    "metadata": {},
                    "execution_count": 19
                }
            ],
            "metadata": {}
        },
        {
            "cell_type": "code",
            "execution_count": 20,
            "source": [
                "predictions"
            ],
            "outputs": [
                {
                    "output_type": "execute_result",
                    "data": {
                        "text/plain": [
                            "array([[1236089. ],\n",
                            "       [1069233.2],\n",
                            "       [1388820. ],\n",
                            "       ...,\n",
                            "       [1236547.2],\n",
                            "       [ 996270.5],\n",
                            "       [1253488.2]], dtype=float32)"
                        ]
                    },
                    "metadata": {},
                    "execution_count": 20
                }
            ],
            "metadata": {}
        },
        {
            "cell_type": "code",
            "execution_count": 21,
            "source": [
                "sd=0\r\n",
                "for i in range(y_test.shape[0]):\r\n",
                "    if abs(predictions[i]-y_test[i,0])<=300000:\r\n",
                "        sd=sd+1\r\n",
                "print(sd/len(y_test))\r\n",
                "#accuracy of test set"
            ],
            "outputs": [
                {
                    "output_type": "stream",
                    "name": "stdout",
                    "text": [
                        "0.7726666666666666\n"
                    ]
                }
            ],
            "metadata": {}
        },
        {
            "cell_type": "code",
            "execution_count": 22,
            "source": [
                "# to increase it, play with number of levels and try to optimize it"
            ],
            "outputs": [],
            "metadata": {}
        }
    ],
    "metadata": {
        "orig_nbformat": 4,
        "language_info": {
            "name": "python",
            "version": "3.9.5",
            "mimetype": "text/x-python",
            "codemirror_mode": {
                "name": "ipython",
                "version": 3
            },
            "pygments_lexer": "ipython3",
            "nbconvert_exporter": "python",
            "file_extension": ".py"
        },
        "kernelspec": {
            "name": "python3",
            "display_name": "Python 3.9.5 64-bit"
        },
        "interpreter": {
            "hash": "33dc6d49505b4536b6a128d9d7c879e1fa44477ad44947bbbe73093067fe6393"
        }
    },
    "nbformat": 4,
    "nbformat_minor": 2
}